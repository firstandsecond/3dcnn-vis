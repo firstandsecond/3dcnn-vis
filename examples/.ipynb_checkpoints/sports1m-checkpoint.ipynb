{
 "cells": [
  {
   "cell_type": "markdown",
   "metadata": {
    "collapsed": true
   },
   "source": [
    "<div align=\"center\">\n",
    "    <h1>Activation Maximization on C3D</h1>\n",
    "</div>"
   ]
  },
  {
   "cell_type": "markdown",
   "metadata": {},
   "source": [
    "<div align=\"center\">\n",
    "    <h4>Keras C3D model pretrained on Sports1M dataset</h4>\n",
    "</div>"
   ]
  },
  {
   "cell_type": "code",
   "execution_count": 14,
   "metadata": {},
   "outputs": [],
   "source": [
    "from keras.models import Sequential\n",
    "from keras.layers import Conv3D, MaxPool3D, ZeroPadding3D\n",
    "from keras.layers.core import Dense, Dropout, Flatten\n",
    "\n",
    "model = Sequential()\n",
    "\n",
    "# 1st layer group\n",
    "model.add(Conv3D(64, (3, 3, 3), activation='relu', padding='same', name='conv1', strides=(1, 1, 1), input_shape=(16, 112, 112, 3)))\n",
    "model.add(MaxPool3D(pool_size=(1, 2, 2), strides=(1, 2, 2), padding='valid', name='pool1'))\n",
    "# 2nd layer group\n",
    "model.add(Conv3D(128, (3, 3, 3), activation='relu', padding='same', name='conv2', strides=(1, 1, 1)))\n",
    "model.add(MaxPool3D(pool_size=(2, 2, 2), strides=(2, 2, 2), padding='valid', name='pool2'))\n",
    "# 3rd layer group\n",
    "model.add(Conv3D(256, (3, 3, 3), activation='relu', padding='same', name='conv3a', strides=(1, 1, 1)))\n",
    "model.add(Conv3D(256, (3, 3, 3), activation='relu', padding='same', name='conv3b', strides=(1, 1, 1)))\n",
    "model.add(MaxPool3D(pool_size=(2, 2, 2), strides=(2, 2, 2), padding='valid', name='pool3'))\n",
    "# 4th layer group\n",
    "model.add(Conv3D(512, (3, 3, 3), activation='relu', padding='same', name='conv4a', strides=(1, 1, 1)))\n",
    "model.add(Conv3D(512, (3, 3, 3), activation='relu', padding='same', name='conv4b', strides=(1, 1, 1)))\n",
    "model.add(MaxPool3D(pool_size=(2, 2, 2), strides=(2, 2, 2), padding='valid', name='pool4'))\n",
    "# 5th layer group\n",
    "model.add(Conv3D(512, (3, 3, 3), activation='relu', padding='same', name='conv5a', strides=(1, 1, 1)))\n",
    "model.add(Conv3D(512, (3, 3, 3), activation='relu', padding='same', name='conv5b', strides=(1, 1, 1)))\n",
    "model.add(ZeroPadding3D(padding=(0, 1, 1)))\n",
    "model.add(MaxPool3D(pool_size=(2, 2, 2), strides=(2, 2, 2), padding='valid', name='pool5'))\n",
    "model.add(Flatten())\n",
    "# FC layers group\n",
    "model.add(Dense(4096, activation='relu', name='fc6'))\n",
    "model.add(Dropout(.5))\n",
    "model.add(Dense(4096, activation='relu', name='fc7'))\n",
    "model.add(Dropout(.5))\n",
    "model.add(Dense(487, activation='softmax', name='fc8'))"
   ]
  },
  {
   "cell_type": "code",
   "execution_count": 15,
   "metadata": {},
   "outputs": [
    {
     "name": "stdout",
     "output_type": "stream",
     "text": [
      "_________________________________________________________________\n",
      "Layer (type)                 Output Shape              Param #   \n",
      "=================================================================\n",
      "conv1 (Conv3D)               (None, 16, 112, 112, 64)  5248      \n",
      "_________________________________________________________________\n",
      "pool1 (MaxPooling3D)         (None, 16, 56, 56, 64)    0         \n",
      "_________________________________________________________________\n",
      "conv2 (Conv3D)               (None, 16, 56, 56, 128)   221312    \n",
      "_________________________________________________________________\n",
      "pool2 (MaxPooling3D)         (None, 8, 28, 28, 128)    0         \n",
      "_________________________________________________________________\n",
      "conv3a (Conv3D)              (None, 8, 28, 28, 256)    884992    \n",
      "_________________________________________________________________\n",
      "conv3b (Conv3D)              (None, 8, 28, 28, 256)    1769728   \n",
      "_________________________________________________________________\n",
      "pool3 (MaxPooling3D)         (None, 4, 14, 14, 256)    0         \n",
      "_________________________________________________________________\n",
      "conv4a (Conv3D)              (None, 4, 14, 14, 512)    3539456   \n",
      "_________________________________________________________________\n",
      "conv4b (Conv3D)              (None, 4, 14, 14, 512)    7078400   \n",
      "_________________________________________________________________\n",
      "pool4 (MaxPooling3D)         (None, 2, 7, 7, 512)      0         \n",
      "_________________________________________________________________\n",
      "conv5a (Conv3D)              (None, 2, 7, 7, 512)      7078400   \n",
      "_________________________________________________________________\n",
      "conv5b (Conv3D)              (None, 2, 7, 7, 512)      7078400   \n",
      "_________________________________________________________________\n",
      "zero_padding3d_2 (ZeroPaddin (None, 2, 9, 9, 512)      0         \n",
      "_________________________________________________________________\n",
      "pool5 (MaxPooling3D)         (None, 1, 4, 4, 512)      0         \n",
      "_________________________________________________________________\n",
      "flatten_2 (Flatten)          (None, 8192)              0         \n",
      "_________________________________________________________________\n",
      "fc6 (Dense)                  (None, 4096)              33558528  \n",
      "_________________________________________________________________\n",
      "dropout_3 (Dropout)          (None, 4096)              0         \n",
      "_________________________________________________________________\n",
      "fc7 (Dense)                  (None, 4096)              16781312  \n",
      "_________________________________________________________________\n",
      "dropout_4 (Dropout)          (None, 4096)              0         \n",
      "_________________________________________________________________\n",
      "fc8 (Dense)                  (None, 487)               1995239   \n",
      "=================================================================\n",
      "Total params: 79,991,015\n",
      "Trainable params: 79,991,015\n",
      "Non-trainable params: 0\n",
      "_________________________________________________________________\n"
     ]
    }
   ],
   "source": [
    "model.summary()"
   ]
  },
  {
   "cell_type": "markdown",
   "metadata": {},
   "source": [
    "You can [use the pre-trained model in Caffe format or convert it to Keras format](https://github.com/axon-research/c3d-keras) or simply download model weights in Keras format from [here](https://www.dropbox.com/s/vh293aba931wrk1/sports1M_weights_tf.h5?dl=0)."
   ]
  },
  {
   "cell_type": "code",
   "execution_count": 3,
   "metadata": {},
   "outputs": [],
   "source": [
    "url = \"https://www.dropbox.com/s/vh293aba931wrk1/sports1M_weights_tf.h5?dl=1\"  # dl=1 is important\n",
    "import urllib.request\n",
    "u = urllib.request.urlopen(url)\n",
    "data = u.read()\n",
    "u.close()\n",
    " \n",
    "with open('sports1M_weights_tf.h5', \"wb\") as f :\n",
    "    f.write(data)"
   ]
  },
  {
   "cell_type": "markdown",
   "metadata": {},
   "source": [
    "Let's _**load weights**_ and _**compile the model**_"
   ]
  },
  {
   "cell_type": "code",
   "execution_count": 16,
   "metadata": {},
   "outputs": [],
   "source": [
    "model.load_weights('sports1M_weights_tf.h5')\n",
    "model.compile(loss='mean_squared_error', optimizer='sgd')"
   ]
  },
  {
   "cell_type": "markdown",
   "metadata": {},
   "source": [
    "For further visualizing of activation we need to have _**indices of 3D convolutional layers**_"
   ]
  },
  {
   "cell_type": "code",
   "execution_count": 17,
   "metadata": {},
   "outputs": [
    {
     "data": {
      "text/plain": [
       "[0, 2, 4, 5, 7, 8, 10, 11]"
      ]
     },
     "execution_count": 17,
     "metadata": {},
     "output_type": "execute_result"
    }
   ],
   "source": [
    "import keras\n",
    "layer_indices = []\n",
    "number_of_layers = len(model.layers)\n",
    "for i in range(number_of_layers):\n",
    "    if type(model.layers[i]) is keras.layers.convolutional.Conv3D:\n",
    "        layer_indices.append(i)\n",
    "layer_indices"
   ]
  },
  {
   "cell_type": "markdown",
   "metadata": {},
   "source": [
    "Let's get _**number of filters**_ for each convolution layer"
   ]
  },
  {
   "cell_type": "code",
   "execution_count": 18,
   "metadata": {},
   "outputs": [
    {
     "data": {
      "text/plain": [
       "[64, 128, 256, 256, 512, 512, 512, 512]"
      ]
     },
     "execution_count": 18,
     "metadata": {},
     "output_type": "execute_result"
    }
   ],
   "source": [
    "from vis.visualization import get_num_filters\n",
    "\n",
    "number_of_filters = []\n",
    "for idx in layer_indices:\n",
    "  number_of_filters.append(get_num_filters(model.layers[idx]))\n",
    "number_of_filters"
   ]
  },
  {
   "cell_type": "markdown",
   "metadata": {},
   "source": [
    "Getting activations for _**first filter**_ (indices from 0) of layer _**conv1**_"
   ]
  },
  {
   "cell_type": "code",
   "execution_count": 19,
   "metadata": {},
   "outputs": [],
   "source": [
    "from vis.visualization import visualize_activation\n",
    "conv1_0 = visualize_activation(model, layer_idx=0, filter_indices=0)"
   ]
  },
  {
   "cell_type": "markdown",
   "metadata": {},
   "source": [
    "Creating **gif** to visualize 3D activation"
   ]
  },
  {
   "cell_type": "code",
   "execution_count": 20,
   "metadata": {},
   "outputs": [
    {
     "name": "stdout",
     "output_type": "stream",
     "text": [
      "\n",
      "[MoviePy] Building file conv1_0.gif with imageio\n"
     ]
    },
    {
     "name": "stderr",
     "output_type": "stream",
     "text": [
      "100%|██████████| 17/17 [00:00<00:00, 147.34it/s]\n"
     ]
    }
   ],
   "source": [
    "import imageio\n",
    "imageio.plugins.ffmpeg.download()\n",
    "from moviepy.editor import ImageSequenceClip\n",
    "\n",
    "conv1_0_clip = ImageSequenceClip(list(conv1_0), fps=10).resize(1.0)\n",
    "conv1_0_clip.write_gif(\"conv1_0.gif\", fps=10)"
   ]
  },
  {
   "cell_type": "markdown",
   "metadata": {},
   "source": [
    "<img src=\"conv1_0.gif\" alt=\"\" height=200 width=200></img>"
   ]
  },
  {
   "cell_type": "markdown",
   "metadata": {},
   "source": [
    "<div align=\"center\">\n",
    "    <h4>Keras C3D model pretrained on Sports1M dataset</h4>\n",
    "</div>"
   ]
  },
  {
   "cell_type": "markdown",
   "metadata": {},
   "source": [
    "<div align=\"center\">\n",
    "    <h4>conv1</h4>\n",
    "</div>"
   ]
  },
  {
   "cell_type": "markdown",
   "metadata": {},
   "source": [
    "<table border=\"5\" bordercolor=\"blue\" align=\"center\">\n",
    "\t\t<tr>\n",
    "\t\t\t<td><img src=\"../data/layer0/layer0_filter0.gif\" alt=\"\" border=3 height=100 width=100></img></td>\n",
    "\t\t\t<td><img src=\"../data/layer0/layer0_filter1.gif\" alt=\"\" border=3 height=100 width=100></img></td>\n",
    "\t\t\t<td><img src=\"../data/layer0/layer0_filter2.gif\" alt=\"\" border=3 height=100 width=100></img></td>\n",
    "\t\t\t<td><img src=\"../data/layer0/layer0_filter3.gif\" alt=\"\" border=3 height=100 width=100></img></td>\n",
    "\t\t</tr>\n",
    " </table>"
   ]
  },
  {
   "cell_type": "markdown",
   "metadata": {},
   "source": [
    "<div align=\"center\">\n",
    "    <h4>conv2</h4>\n",
    "</div>"
   ]
  },
  {
   "cell_type": "markdown",
   "metadata": {},
   "source": [
    "<table>\n",
    "        <tr>\n",
    "\t\t\t<td><img src=\"../data/layer2/layer2_filter0.gif\" alt=\"\" border=3 height=100 width=100></img></td>\n",
    "\t\t\t<td><img src=\"../data/layer2/layer2_filter1.gif\" alt=\"\" border=3 height=100 width=100></img></td>\n",
    "\t\t\t<td><img src=\"../data/layer2/layer2_filter2.gif\" alt=\"\" border=3 height=100 width=100></img></td>\n",
    "\t\t\t<td><img src=\"../data/layer2/layer2_filter3.gif\" alt=\"\" border=3 height=100 width=100></img></td>\n",
    "\t\t</tr>\n",
    "</table>"
   ]
  },
  {
   "cell_type": "markdown",
   "metadata": {},
   "source": [
    "<div align=\"center\">\n",
    "    <h4>conv3a</h4>\n",
    "</div>"
   ]
  },
  {
   "cell_type": "markdown",
   "metadata": {},
   "source": [
    "<table>\n",
    "\t\t<tr>\n",
    "\t\t\t<td><img src=\"../data/layer4/layer4_filter0.gif\" alt=\"\" border=3 height=100 width=100></img></td>\n",
    "\t\t\t<td><img src=\"../data/layer4/layer4_filter1.gif\" alt=\"\" border=3 height=100 width=100></img></td>\n",
    "\t\t\t<td><img src=\"../data/layer4/layer4_filter2.gif\" alt=\"\" border=3 height=100 width=100></img></td>\n",
    "\t\t\t<td><img src=\"../data/layer4/layer4_filter3.gif\" alt=\"\" border=3 height=100 width=100></img></td>\n",
    "\t\t</tr>\n",
    "</table>"
   ]
  },
  {
   "cell_type": "markdown",
   "metadata": {},
   "source": [
    "<div align=\"center\">\n",
    "    <h4>conv3b</h4>\n",
    "</div>"
   ]
  },
  {
   "cell_type": "markdown",
   "metadata": {},
   "source": [
    "<table>\n",
    "        <tr>\n",
    "\t\t\t<td><img src=\"../data/layer5/layer5_filter0.gif\" alt=\"\" border=3 height=100 width=100></img></td>\n",
    "\t\t\t<td><img src=\"../data/layer5/layer5_filter1.gif\" alt=\"\" border=3 height=100 width=100></img></td>\n",
    "\t\t\t<td><img src=\"../data/layer5/layer5_filter2.gif\" alt=\"\" border=3 height=100 width=100></img></td>\n",
    "\t\t\t<td><img src=\"../data/layer5/layer5_filter3.gif\" alt=\"\" border=3 height=100 width=100></img></td>\n",
    "\t\t</tr>\n",
    "</table>"
   ]
  },
  {
   "cell_type": "markdown",
   "metadata": {},
   "source": [
    "<div align=\"center\">\n",
    "    <h4>conv4a</h4>\n",
    "</div>"
   ]
  },
  {
   "cell_type": "markdown",
   "metadata": {},
   "source": [
    "<table>\n",
    "\t\t<tr>\n",
    "\t\t\t<td><img src=\"../data/layer7/layer7_filter0.gif\" alt=\"\" border=3 height=100 width=100></img></td>\n",
    "\t\t\t<td><img src=\"../data/layer7/layer7_filter1.gif\" alt=\"\" border=3 height=100 width=100></img></td>\n",
    "\t\t\t<td><img src=\"../data/layer7/layer7_filter2.gif\" alt=\"\" border=3 height=100 width=100></img></td>\n",
    "\t\t\t<td><img src=\"../data/layer7/layer7_filter3.gif\" alt=\"\" border=3 height=100 width=100></img></td>\n",
    "\t\t</tr>\n",
    "</table>"
   ]
  },
  {
   "cell_type": "markdown",
   "metadata": {},
   "source": [
    "<div align=\"center\">\n",
    "    <h4>conv4b</h4>\n",
    "</div>"
   ]
  },
  {
   "cell_type": "markdown",
   "metadata": {},
   "source": [
    "<table>\n",
    "        <tr>\n",
    "\t\t\t<td><img src=\"../data/layer8/layer8_filter0.gif\" alt=\"\" border=3 height=100 width=100></img></td>\n",
    "\t\t\t<td><img src=\"../data/layer8/layer8_filter1.gif\" alt=\"\" border=3 height=100 width=100></img></td>\n",
    "\t\t\t<td><img src=\"../data/layer8/layer8_filter2.gif\" alt=\"\" border=3 height=100 width=100></img></td>\n",
    "\t\t\t<td><img src=\"../data/layer8/layer8_filter3.gif\" alt=\"\" border=3 height=100 width=100></img></td>\n",
    "\t\t</tr>\n",
    "</table>"
   ]
  },
  {
   "cell_type": "markdown",
   "metadata": {},
   "source": [
    "<div align=\"center\">\n",
    "    <h4>conv5a</h4>\n",
    "</div>"
   ]
  },
  {
   "cell_type": "markdown",
   "metadata": {},
   "source": [
    "<table>\n",
    "    \t<tr>\n",
    "\t\t\t<td><img src=\"../data/layer10/layer10_filter0.gif\" alt=\"\" border=3 height=100 width=100></img></td>\n",
    "\t\t\t<td><img src=\"../data/layer10/layer10_filter1.gif\" alt=\"\" border=3 height=100 width=100></img></td>\n",
    "\t\t\t<td><img src=\"../data/layer10/layer10_filter2.gif\" alt=\"\" border=3 height=100 width=100></img></td>\n",
    "\t\t\t<td><img src=\"../data/layer10/layer10_filter3.gif\" alt=\"\" border=3 height=100 width=100></img></td>\n",
    "\t\t</tr>\n",
    "</table>"
   ]
  },
  {
   "cell_type": "markdown",
   "metadata": {},
   "source": [
    "<div align=\"center\">\n",
    "    <h4>conv5b</h4>\n",
    "</div>"
   ]
  },
  {
   "cell_type": "markdown",
   "metadata": {},
   "source": [
    "<table>\n",
    "    \t<tr>\n",
    "\t\t\t<td><img src=\"../data/layer11/layer11_filter0.gif\" alt=\"\" border=3 height=100 width=100></img></td>\n",
    "\t\t\t<td><img src=\"../data/layer11/layer11_filter1.gif\" alt=\"\" border=3 height=100 width=100></img></td>\n",
    "\t\t\t<td><img src=\"../data/layer11/layer11_filter2.gif\" alt=\"\" border=3 height=100 width=100></img></td>\n",
    "\t\t\t<td><img src=\"../data/layer11/layer11_filter3.gif\" alt=\"\" border=3 height=100 width=100></img></td>\n",
    "\t\t</tr>\n",
    "</table>"
   ]
  }
 ],
 "metadata": {
  "kernelspec": {
   "display_name": "Python 3",
   "language": "python",
   "name": "python3"
  },
  "language_info": {
   "codemirror_mode": {
    "name": "ipython",
    "version": 3
   },
   "file_extension": ".py",
   "mimetype": "text/x-python",
   "name": "python",
   "nbconvert_exporter": "python",
   "pygments_lexer": "ipython3",
   "version": "3.5.2"
  }
 },
 "nbformat": 4,
 "nbformat_minor": 1
}
