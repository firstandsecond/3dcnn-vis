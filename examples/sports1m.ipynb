{
 "cells": [
  {
   "cell_type": "markdown",
   "metadata": {
    "collapsed": true
   },
   "source": [
    "<div align=\"center\">\n",
    "    <h1>Activation Maximization on C3D</h1>\n",
    "</div>"
   ]
  },
  {
   "cell_type": "markdown",
   "metadata": {},
   "source": [
    "<div align=\"center\">\n",
    "    <h4>Keras C3D model pretrained on Sports1M dataset</h4>\n",
    "</div>"
   ]
  },
  {
   "cell_type": "code",
   "execution_count": 10,
   "metadata": {},
   "outputs": [],
   "source": [
    "from keras.models import Sequential\n",
    "from keras.layers import Conv3D, MaxPool3D, ZeroPadding3D\n",
    "from keras.layers.core import Dense, Dropout, Flatten\n",
    "\n",
    "model = Sequential()\n",
    "\n",
    "# 1st layer group\n",
    "model.add(Conv3D(64, (3, 3, 3), activation='relu', padding='same', name='conv1', strides=(1, 1, 1), input_shape=(16, 112, 112, 3)))\n",
    "model.add(MaxPool3D(pool_size=(1, 2, 2), strides=(1, 2, 2), padding='valid', name='pool1'))\n",
    "# 2nd layer group\n",
    "model.add(Conv3D(128, (3, 3, 3), activation='relu', padding='same', name='conv2', strides=(1, 1, 1)))\n",
    "model.add(MaxPool3D(pool_size=(2, 2, 2), strides=(2, 2, 2), padding='valid', name='pool2'))\n",
    "# 3rd layer group\n",
    "model.add(Conv3D(256, (3, 3, 3), activation='relu', padding='same', name='conv3a', strides=(1, 1, 1)))\n",
    "model.add(Conv3D(256, (3, 3, 3), activation='relu', padding='same', name='conv3b', strides=(1, 1, 1)))\n",
    "model.add(MaxPool3D(pool_size=(2, 2, 2), strides=(2, 2, 2), padding='valid', name='pool3'))\n",
    "# 4th layer group\n",
    "model.add(Conv3D(512, (3, 3, 3), activation='relu', padding='same', name='conv4a', strides=(1, 1, 1)))\n",
    "model.add(Conv3D(512, (3, 3, 3), activation='relu', padding='same', name='conv4b', strides=(1, 1, 1)))\n",
    "model.add(MaxPool3D(pool_size=(2, 2, 2), strides=(2, 2, 2), padding='valid', name='pool4'))\n",
    "# 5th layer group\n",
    "model.add(Conv3D(512, (3, 3, 3), activation='relu', padding='same', name='conv5a', strides=(1, 1, 1)))\n",
    "model.add(Conv3D(512, (3, 3, 3), activation='relu', padding='same', name='conv5b', strides=(1, 1, 1)))\n",
    "model.add(ZeroPadding3D(padding=(0, 1, 1)))\n",
    "model.add(MaxPool3D(pool_size=(2, 2, 2), strides=(2, 2, 2), padding='valid', name='pool5'))\n",
    "model.add(Flatten())\n",
    "# FC layers group\n",
    "model.add(Dense(4096, activation='relu', name='fc6'))\n",
    "model.add(Dropout(.5))\n",
    "model.add(Dense(4096, activation='relu', name='fc7'))\n",
    "model.add(Dropout(.5))\n",
    "model.add(Dense(487, activation='softmax', name='fc8'))"
   ]
  },
  {
   "cell_type": "code",
   "execution_count": 11,
   "metadata": {},
   "outputs": [
    {
     "name": "stdout",
     "output_type": "stream",
     "text": [
      "_________________________________________________________________\n",
      "Layer (type)                 Output Shape              Param #   \n",
      "=================================================================\n",
      "conv1 (Conv3D)               (None, 16, 112, 112, 64)  5248      \n",
      "_________________________________________________________________\n",
      "pool1 (MaxPooling3D)         (None, 16, 56, 56, 64)    0         \n",
      "_________________________________________________________________\n",
      "conv2 (Conv3D)               (None, 16, 56, 56, 128)   221312    \n",
      "_________________________________________________________________\n",
      "pool2 (MaxPooling3D)         (None, 8, 28, 28, 128)    0         \n",
      "_________________________________________________________________\n",
      "conv3a (Conv3D)              (None, 8, 28, 28, 256)    884992    \n",
      "_________________________________________________________________\n",
      "conv3b (Conv3D)              (None, 8, 28, 28, 256)    1769728   \n",
      "_________________________________________________________________\n",
      "pool3 (MaxPooling3D)         (None, 4, 14, 14, 256)    0         \n",
      "_________________________________________________________________\n",
      "conv4a (Conv3D)              (None, 4, 14, 14, 512)    3539456   \n",
      "_________________________________________________________________\n",
      "conv4b (Conv3D)              (None, 4, 14, 14, 512)    7078400   \n",
      "_________________________________________________________________\n",
      "pool4 (MaxPooling3D)         (None, 2, 7, 7, 512)      0         \n",
      "_________________________________________________________________\n",
      "conv5a (Conv3D)              (None, 2, 7, 7, 512)      7078400   \n",
      "_________________________________________________________________\n",
      "conv5b (Conv3D)              (None, 2, 7, 7, 512)      7078400   \n",
      "_________________________________________________________________\n",
      "zero_padding3d_3 (ZeroPaddin (None, 2, 9, 9, 512)      0         \n",
      "_________________________________________________________________\n",
      "pool5 (MaxPooling3D)         (None, 1, 4, 4, 512)      0         \n",
      "_________________________________________________________________\n",
      "flatten_3 (Flatten)          (None, 8192)              0         \n",
      "_________________________________________________________________\n",
      "fc6 (Dense)                  (None, 4096)              33558528  \n",
      "_________________________________________________________________\n",
      "dropout_5 (Dropout)          (None, 4096)              0         \n",
      "_________________________________________________________________\n",
      "fc7 (Dense)                  (None, 4096)              16781312  \n",
      "_________________________________________________________________\n",
      "dropout_6 (Dropout)          (None, 4096)              0         \n",
      "_________________________________________________________________\n",
      "fc8 (Dense)                  (None, 487)               1995239   \n",
      "=================================================================\n",
      "Total params: 79,991,015\n",
      "Trainable params: 79,991,015\n",
      "Non-trainable params: 0\n",
      "_________________________________________________________________\n"
     ]
    }
   ],
   "source": [
    "model.summary()"
   ]
  },
  {
   "cell_type": "markdown",
   "metadata": {},
   "source": [
    "Let's _**load weights**_ and _**compile the model**_"
   ]
  },
  {
   "cell_type": "code",
   "execution_count": null,
   "metadata": {},
   "outputs": [],
   "source": [
    "model.load_weights('sports1M_weights_tf.h5')\n",
    "model.compile(loss='mean_squared_error', optimizer='sgd')"
   ]
  },
  {
   "cell_type": "markdown",
   "metadata": {},
   "source": [
    "For further visualizing of activation we need to have _**indices of 3D convolutional layers**_"
   ]
  },
  {
   "cell_type": "code",
   "execution_count": 7,
   "metadata": {},
   "outputs": [
    {
     "data": {
      "text/plain": [
       "[0, 2, 4, 5, 7, 8, 10, 11]"
      ]
     },
     "execution_count": 7,
     "metadata": {},
     "output_type": "execute_result"
    }
   ],
   "source": [
    "import keras\n",
    "layer_indices = []\n",
    "number_of_layers = len(model.layers)\n",
    "for i in range(number_of_layers):\n",
    "    if type(model.layers[i]) is keras.layers.convolutional.Conv3D:\n",
    "        layer_indices.append(i)\n",
    "layer_indices"
   ]
  },
  {
   "cell_type": "markdown",
   "metadata": {},
   "source": [
    "Let's get _**number of filters**_ for each convolution layer"
   ]
  },
  {
   "cell_type": "code",
   "execution_count": null,
   "metadata": {},
   "outputs": [],
   "source": [
    "from __future__ import absolute_import"
   ]
  },
  {
   "cell_type": "code",
   "execution_count": null,
   "metadata": {},
   "outputs": [],
   "source": [
    "from vis.visualization import get_num_filters\n",
    "\n",
    "number_of_filters = []\n",
    "for idx in layer_indices:\n",
    "  number_of_filters.append(get_num_filters(model.layers[idx]))\n",
    "number_of_filters"
   ]
  },
  {
   "cell_type": "markdown",
   "metadata": {},
   "source": [
    "Getting activations for _**first filter**_ (indices from 0) of layer _**conv1**_"
   ]
  },
  {
   "cell_type": "code",
   "execution_count": null,
   "metadata": {},
   "outputs": [],
   "source": [
    "from vis.visualization import visualize_activation\n",
    "\n",
    "from vis.visualization import visualize_activation\n",
    "conv1_0 = visualize_activation(model, layer_index=0, activation_index=0)"
   ]
  },
  {
   "cell_type": "markdown",
   "metadata": {},
   "source": [
    "Creating **gif** to visualize 3D activation"
   ]
  },
  {
   "cell_type": "code",
   "execution_count": null,
   "metadata": {},
   "outputs": [],
   "source": [
    "import imageio\n",
    "imageio.plugins.ffmpeg.download()\n",
    "from moviepy.editor import ImageSequenceClip\n",
    "\n",
    "conv1_0_clip = ImageSequenceClip(list(conv1_0), fps=10).resize(1.0)\n",
    "conv1_0_clip.write_gif(\"conv1_0.gif\", fps=10)"
   ]
  },
  {
   "cell_type": "markdown",
   "metadata": {},
   "source": [
    "Getting activations for _**twelvs filter**_ (indices from 0)  of layer _**conv5a**_ and visualize it"
   ]
  },
  {
   "cell_type": "code",
   "execution_count": null,
   "metadata": {},
   "outputs": [],
   "source": [
    "conv5a_11 = visualize_activation(model, layer_idx=10, filter_indices=11)\n",
    "conv5a_11_clip = ImageSequenceClip(list(conv5a_11), fps=10).resize(1.0)\n",
    "conv5a_11_clip.write_gif(\"conv1_0.gif\", fps=10)"
   ]
  },
  {
   "cell_type": "markdown",
   "metadata": {},
   "source": [
    "<div align=\"center\">\n",
    "    <h4>Keras C3D model pretrained on Sports1M dataset</h4>\n",
    "</div>"
   ]
  },
  {
   "cell_type": "markdown",
   "metadata": {},
   "source": [
    "<div align=\"center\">\n",
    "    <h4>conv1</h4>\n",
    "</div>"
   ]
  },
  {
   "cell_type": "markdown",
   "metadata": {},
   "source": [
    "<table border=\"5\" bordercolor=\"blue\" align=\"center\">\n",
    "\t\t<tr>\n",
    "\t\t\t<td><img src=\"../data/layer0/layer0_filter0.gif\" alt=\"\" border=3 height=100 width=100></img></td>\n",
    "\t\t\t<td><img src=\"../data/layer0/layer0_filter1.gif\" alt=\"\" border=3 height=100 width=100></img></td>\n",
    "\t\t\t<td><img src=\"../data/layer0/layer0_filter2.gif\" alt=\"\" border=3 height=100 width=100></img></td>\n",
    "\t\t\t<td><img src=\"../data/layer0/layer0_filter3.gif\" alt=\"\" border=3 height=100 width=100></img></td>\n",
    "\t\t\t<td><img src=\"../data/layer0/layer0_filter4.gif\" alt=\"\" border=3 height=100 width=100></img></td>\n",
    "\t\t\t<td><img src=\"../data/layer0/layer0_filter5.gif\" alt=\"\" border=3 height=100 width=100></img></td>\n",
    "\t\t\t<td><img src=\"../data/layer0/layer0_filter6.gif\" alt=\"\" border=3 height=100 width=100></img></td>\n",
    "\t\t\t<td><img src=\"../data/layer0/layer0_filter7.gif\" alt=\"\" border=3 height=100 width=100></img></td>\n",
    "\t\t</tr>\n",
    "\t\t<tr>\n",
    "\t\t\t<td><img src=\"../data/layer0/layer0_filter8.gif\" alt=\"\" border=3 height=100 width=100></img></td>\n",
    "\t\t\t<td><img src=\"../data/layer0/layer0_filter9.gif\" alt=\"\" border=3 height=100 width=100></img></td>\n",
    "\t\t\t<td><img src=\"../data/layer0/layer0_filter10.gif\" alt=\"\" border=3 height=100 width=100></img></td>\n",
    "\t\t\t<td><img src=\"../data/layer0/layer0_filter11.gif\" alt=\"\" border=3 height=100 width=100></img></td>\n",
    "\t\t\t<td><img src=\"../data/layer0/layer0_filter12.gif\" alt=\"\" border=3 height=100 width=100></img></td>\n",
    "\t\t\t<td><img src=\"../data/layer0/layer0_filter13.gif\" alt=\"\" border=3 height=100 width=100></img></td>\n",
    "\t\t\t<td><img src=\"../data/layer0/layer0_filter14.gif\" alt=\"\" border=3 height=100 width=100></img></td>\n",
    "\t\t\t<td><img src=\"../data/layer0/layer0_filter15.gif\" alt=\"\" border=3 height=100 width=100></img></td>\n",
    "\t\t</tr>\n",
    "\t\t<tr>\n",
    "\t\t\t<td><img src=\"../data/layer0/layer0_filter16.gif\" alt=\"\" border=3 height=100 width=100></img></td>\n",
    "\t\t\t<td><img src=\"../data/layer0/layer0_filter17.gif\" alt=\"\" border=3 height=100 width=100></img></td>\n",
    "\t\t\t<td><img src=\"../data/layer0/layer0_filter18.gif\" alt=\"\" border=3 height=100 width=100></img></td>\n",
    "\t\t\t<td><img src=\"../data/layer0/layer0_filter19.gif\" alt=\"\" border=3 height=100 width=100></img></td>\n",
    "\t\t\t<td><img src=\"../data/layer0/layer0_filter20.gif\" alt=\"\" border=3 height=100 width=100></img></td>\n",
    "\t\t\t<td><img src=\"../data/layer0/layer0_filter21.gif\" alt=\"\" border=3 height=100 width=100></img></td>\n",
    "\t\t\t<td><img src=\"../data/layer0/layer0_filter22.gif\" alt=\"\" border=3 height=100 width=100></img></td>\n",
    "\t\t\t<td><img src=\"../data/layer0/layer0_filter23.gif\" alt=\"\" border=3 height=100 width=100></img></td>\n",
    "\t\t</tr>\n",
    "\t\t<tr>\n",
    "\t\t\t<td><img src=\"../data/layer0/layer0_filter24.gif\" alt=\"\" border=3 height=100 width=100></img></td>\n",
    "\t\t\t<td><img src=\"../data/layer0/layer0_filter25.gif\" alt=\"\" border=3 height=100 width=100></img></td>\n",
    "\t\t\t<td><img src=\"../data/layer0/layer0_filter26.gif\" alt=\"\" border=3 height=100 width=100></img></td>\n",
    "\t\t\t<td><img src=\"../data/layer0/layer0_filter27.gif\" alt=\"\" border=3 height=100 width=100></img></td>\n",
    "\t\t\t<td><img src=\"../data/layer0/layer0_filter28.gif\" alt=\"\" border=3 height=100 width=100></img></td>\n",
    "\t\t\t<td><img src=\"../data/layer0/layer0_filter29.gif\" alt=\"\" border=3 height=100 width=100></img></td>\n",
    "\t\t\t<td><img src=\"../data/layer0/layer0_filter30.gif\" alt=\"\" border=3 height=100 width=100></img></td>\n",
    "\t\t\t<td><img src=\"../data/layer0/layer0_filter31.gif\" alt=\"\" border=3 height=100 width=100></img></td>\n",
    "\t\t</tr>\n",
    " </table>"
   ]
  },
  {
   "cell_type": "markdown",
   "metadata": {},
   "source": [
    "<div align=\"center\">\n",
    "    <h4>conv2</h4>\n",
    "</div>"
   ]
  },
  {
   "cell_type": "markdown",
   "metadata": {},
   "source": [
    "<table>\n",
    "<tr>\n",
    "\t\t\t<td><img src=\"../data/layer2/layer2_filter0.gif\" alt=\"\" border=3 height=100 width=100></img></td>\n",
    "\t\t\t<td><img src=\"../data/layer2/layer2_filter1.gif\" alt=\"\" border=3 height=100 width=100></img></td>\n",
    "\t\t\t<td><img src=\"../data/layer2/layer2_filter2.gif\" alt=\"\" border=3 height=100 width=100></img></td>\n",
    "\t\t\t<td><img src=\"../data/layer2/layer2_filter3.gif\" alt=\"\" border=3 height=100 width=100></img></td>\n",
    "\t\t\t<td><img src=\"../data/layer2/layer2_filter4.gif\" alt=\"\" border=3 height=100 width=100></img></td>\n",
    "\t\t\t<td><img src=\"../data/layer2/layer2_filter5.gif\" alt=\"\" border=3 height=100 width=100></img></td>\n",
    "\t\t\t<td><img src=\"../data/layer2/layer2_filter6.gif\" alt=\"\" border=3 height=100 width=100></img></td>\n",
    "\t\t\t<td><img src=\"../data/layer2/layer2_filter7.gif\" alt=\"\" border=3 height=100 width=100></img></td>\n",
    "\t\t</tr>\n",
    "\t\t<tr>\n",
    "\t\t\t<td><img src=\"../data/layer2/layer2_filter8.gif\" alt=\"\" border=3 height=100 width=100></img></td>\n",
    "\t\t\t<td><img src=\"../data/layer2/layer2_filter9.gif\" alt=\"\" border=3 height=100 width=100></img></td>\n",
    "\t\t\t<td><img src=\"../data/layer2/layer2_filter10.gif\" alt=\"\" border=3 height=100 width=100></img></td>\n",
    "\t\t\t<td><img src=\"../data/layer2/layer2_filter11.gif\" alt=\"\" border=3 height=100 width=100></img></td>\n",
    "\t\t\t<td><img src=\"../data/layer2/layer2_filter12.gif\" alt=\"\" border=3 height=100 width=100></img></td>\n",
    "\t\t\t<td><img src=\"../data/layer2/layer2_filter13.gif\" alt=\"\" border=3 height=100 width=100></img></td>\n",
    "\t\t\t<td><img src=\"../data/layer2/layer2_filter14.gif\" alt=\"\" border=3 height=100 width=100></img></td>\n",
    "\t\t\t<td><img src=\"../data/layer2/layer2_filter15.gif\" alt=\"\" border=3 height=100 width=100></img></td>\n",
    "\t\t</tr>\n",
    "\t\t<tr>\n",
    "\t\t\t<td><img src=\"../data/layer2/layer2_filter16.gif\" alt=\"\" border=3 height=100 width=100></img></td>\n",
    "\t\t\t<td><img src=\"../data/layer2/layer2_filter17.gif\" alt=\"\" border=3 height=100 width=100></img></td>\n",
    "\t\t\t<td><img src=\"../data/layer2/layer2_filter18.gif\" alt=\"\" border=3 height=100 width=100></img></td>\n",
    "\t\t\t<td><img src=\"../data/layer2/layer2_filter19.gif\" alt=\"\" border=3 height=100 width=100></img></td>\n",
    "\t\t\t<td><img src=\"../data/layer2/layer2_filter20.gif\" alt=\"\" border=3 height=100 width=100></img></td>\n",
    "\t\t\t<td><img src=\"../data/layer2/layer2_filter21.gif\" alt=\"\" border=3 height=100 width=100></img></td>\n",
    "\t\t\t<td><img src=\"../data/layer2/layer2_filter22.gif\" alt=\"\" border=3 height=100 width=100></img></td>\n",
    "\t\t\t<td><img src=\"../data/layer2/layer2_filter23.gif\" alt=\"\" border=3 height=100 width=100></img></td>\n",
    "\t\t</tr>\n",
    "\t\t<tr>\n",
    "\t\t\t<td><img src=\"../data/layer2/layer2_filter24.gif\" alt=\"\" border=3 height=100 width=100></img></td>\n",
    "\t\t\t<td><img src=\"../data/layer2/layer2_filter25.gif\" alt=\"\" border=3 height=100 width=100></img></td>\n",
    "\t\t\t<td><img src=\"../data/layer2/layer2_filter26.gif\" alt=\"\" border=3 height=100 width=100></img></td>\n",
    "\t\t\t<td><img src=\"../data/layer2/layer2_filter27.gif\" alt=\"\" border=3 height=100 width=100></img></td>\n",
    "\t\t\t<td><img src=\"../data/layer2/layer2_filter28.gif\" alt=\"\" border=3 height=100 width=100></img></td>\n",
    "\t\t\t<td><img src=\"../data/layer2/layer2_filter29.gif\" alt=\"\" border=3 height=100 width=100></img></td>\n",
    "\t\t\t<td><img src=\"../data/layer2/layer2_filter30.gif\" alt=\"\" border=3 height=100 width=100></img></td>\n",
    "\t\t\t<td><img src=\"../data/layer2/layer2_filter31.gif\" alt=\"\" border=3 height=100 width=100></img></td>\n",
    "\t\t</tr>\n",
    "</table>"
   ]
  },
  {
   "cell_type": "markdown",
   "metadata": {},
   "source": [
    "<div align=\"center\">\n",
    "    <h4>conv3a</h4>\n",
    "</div>"
   ]
  },
  {
   "cell_type": "markdown",
   "metadata": {},
   "source": [
    "<table>\n",
    "\t\t<tr>\n",
    "\t\t\t<td><img src=\"../data/layer4/layer4_filter0.gif\" alt=\"\" border=3 height=100 width=100></img></td>\n",
    "\t\t\t<td><img src=\"../data/layer4/layer4_filter1.gif\" alt=\"\" border=3 height=100 width=100></img></td>\n",
    "\t\t\t<td><img src=\"../data/layer4/layer4_filter2.gif\" alt=\"\" border=3 height=100 width=100></img></td>\n",
    "\t\t\t<td><img src=\"../data/layer4/layer4_filter3.gif\" alt=\"\" border=3 height=100 width=100></img></td>\n",
    "\t\t\t<td><img src=\"../data/layer4/layer4_filter4.gif\" alt=\"\" border=3 height=100 width=100></img></td>\n",
    "\t\t\t<td><img src=\"../data/layer4/layer4_filter5.gif\" alt=\"\" border=3 height=100 width=100></img></td>\n",
    "\t\t\t<td><img src=\"../data/layer4/layer4_filter6.gif\" alt=\"\" border=3 height=100 width=100></img></td>\n",
    "\t\t\t<td><img src=\"../data/layer4/layer4_filter7.gif\" alt=\"\" border=3 height=100 width=100></img></td>\n",
    "\t\t</tr>\n",
    "\t\t<tr>\n",
    "\t\t\t<td><img src=\"../data/layer4/layer4_filter8.gif\" alt=\"\" border=3 height=100 width=100></img></td>\n",
    "\t\t\t<td><img src=\"../data/layer4/layer4_filter9.gif\" alt=\"\" border=3 height=100 width=100></img></td>\n",
    "\t\t\t<td><img src=\"../data/layer4/layer4_filter10.gif\" alt=\"\" border=3 height=100 width=100></img></td>\n",
    "\t\t\t<td><img src=\"../data/layer4/layer4_filter11.gif\" alt=\"\" border=3 height=100 width=100></img></td>\n",
    "\t\t\t<td><img src=\"../data/layer4/layer4_filter12.gif\" alt=\"\" border=3 height=100 width=100></img></td>\n",
    "\t\t\t<td><img src=\"../data/layer4/layer4_filter13.gif\" alt=\"\" border=3 height=100 width=100></img></td>\n",
    "\t\t\t<td><img src=\"../data/layer4/layer4_filter14.gif\" alt=\"\" border=3 height=100 width=100></img></td>\n",
    "\t\t\t<td><img src=\"../data/layer4/layer4_filter15.gif\" alt=\"\" border=3 height=100 width=100></img></td>\n",
    "\t\t</tr>\n",
    "\t\t<tr>\n",
    "\t\t\t<td><img src=\"../data/layer4/layer4_filter16.gif\" alt=\"\" border=3 height=100 width=100></img></td>\n",
    "\t\t\t<td><img src=\"../data/layer4/layer4_filter17.gif\" alt=\"\" border=3 height=100 width=100></img></td>\n",
    "\t\t\t<td><img src=\"../data/layer4/layer4_filter18.gif\" alt=\"\" border=3 height=100 width=100></img></td>\n",
    "\t\t\t<td><img src=\"../data/layer4/layer4_filter19.gif\" alt=\"\" border=3 height=100 width=100></img></td>\n",
    "\t\t\t<td><img src=\"../data/layer4/layer4_filter20.gif\" alt=\"\" border=3 height=100 width=100></img></td>\n",
    "\t\t\t<td><img src=\"../data/layer4/layer4_filter21.gif\" alt=\"\" border=3 height=100 width=100></img></td>\n",
    "\t\t\t<td><img src=\"../data/layer4/layer4_filter22.gif\" alt=\"\" border=3 height=100 width=100></img></td>\n",
    "\t\t\t<td><img src=\"../data/layer4/layer4_filter23.gif\" alt=\"\" border=3 height=100 width=100></img></td>\n",
    "\t\t</tr>\n",
    "\t\t<tr>\n",
    "\t\t\t<td><img src=\"../data/layer4/layer4_filter24.gif\" alt=\"\" border=3 height=100 width=100></img></td>\n",
    "\t\t\t<td><img src=\"../data/layer4/layer4_filter25.gif\" alt=\"\" border=3 height=100 width=100></img></td>\n",
    "\t\t\t<td><img src=\"../data/layer4/layer4_filter26.gif\" alt=\"\" border=3 height=100 width=100></img></td>\n",
    "\t\t\t<td><img src=\"../data/layer4/layer4_filter27.gif\" alt=\"\" border=3 height=100 width=100></img></td>\n",
    "\t\t\t<td><img src=\"../data/layer4/layer4_filter28.gif\" alt=\"\" border=3 height=100 width=100></img></td>\n",
    "\t\t\t<td><img src=\"../data/layer4/layer4_filter29.gif\" alt=\"\" border=3 height=100 width=100></img></td>\n",
    "\t\t\t<td><img src=\"../data/layer4/layer4_filter30.gif\" alt=\"\" border=3 height=100 width=100></img></td>\n",
    "\t\t\t<td><img src=\"../data/layer4/layer4_filter31.gif\" alt=\"\" border=3 height=100 width=100></img></td>\n",
    "\t\t</tr>\n",
    "</table>"
   ]
  },
  {
   "cell_type": "markdown",
   "metadata": {},
   "source": [
    "<div align=\"center\">\n",
    "    <h4>conv3b</h4>\n",
    "</div>"
   ]
  },
  {
   "cell_type": "markdown",
   "metadata": {},
   "source": [
    "<table>\n",
    "<tr>\n",
    "\t\t\t<td><img src=\"../data/layer5/layer5_filter0.gif\" alt=\"\" border=3 height=100 width=100></img></td>\n",
    "\t\t\t<td><img src=\"../data/layer5/layer5_filter1.gif\" alt=\"\" border=3 height=100 width=100></img></td>\n",
    "\t\t\t<td><img src=\"../data/layer5/layer5_filter2.gif\" alt=\"\" border=3 height=100 width=100></img></td>\n",
    "\t\t\t<td><img src=\"../data/layer5/layer5_filter3.gif\" alt=\"\" border=3 height=100 width=100></img></td>\n",
    "\t\t\t<td><img src=\"../data/layer5/layer5_filter4.gif\" alt=\"\" border=3 height=100 width=100></img></td>\n",
    "\t\t\t<td><img src=\"../data/layer5/layer5_filter5.gif\" alt=\"\" border=3 height=100 width=100></img></td>\n",
    "\t\t\t<td><img src=\"../data/layer5/layer5_filter6.gif\" alt=\"\" border=3 height=100 width=100></img></td>\n",
    "\t\t\t<td><img src=\"../data/layer5/layer5_filter7.gif\" alt=\"\" border=3 height=100 width=100></img></td>\n",
    "\t\t</tr>\n",
    "\t\t<tr>\n",
    "\t\t\t<td><img src=\"../data/layer5/layer5_filter8.gif\" alt=\"\" border=3 height=100 width=100></img></td>\n",
    "\t\t\t<td><img src=\"../data/layer5/layer5_filter9.gif\" alt=\"\" border=3 height=100 width=100></img></td>\n",
    "\t\t\t<td><img src=\"../data/layer5/layer5_filter10.gif\" alt=\"\" border=3 height=100 width=100></img></td>\n",
    "\t\t\t<td><img src=\"../data/layer5/layer5_filter11.gif\" alt=\"\" border=3 height=100 width=100></img></td>\n",
    "\t\t\t<td><img src=\"../data/layer5/layer5_filter12.gif\" alt=\"\" border=3 height=100 width=100></img></td>\n",
    "\t\t\t<td><img src=\"../data/layer5/layer5_filter13.gif\" alt=\"\" border=3 height=100 width=100></img></td>\n",
    "\t\t\t<td><img src=\"../data/layer5/layer5_filter14.gif\" alt=\"\" border=3 height=100 width=100></img></td>\n",
    "\t\t\t<td><img src=\"../data/layer5/layer5_filter15.gif\" alt=\"\" border=3 height=100 width=100></img></td>\n",
    "\t\t</tr>\n",
    "\t\t<tr>\n",
    "\t\t\t<td><img src=\"../data/layer5/layer5_filter16.gif\" alt=\"\" border=3 height=100 width=100></img></td>\n",
    "\t\t\t<td><img src=\"../data/layer5/layer5_filter17.gif\" alt=\"\" border=3 height=100 width=100></img></td>\n",
    "\t\t\t<td><img src=\"../data/layer5/layer5_filter18.gif\" alt=\"\" border=3 height=100 width=100></img></td>\n",
    "\t\t\t<td><img src=\"../data/layer5/layer5_filter19.gif\" alt=\"\" border=3 height=100 width=100></img></td>\n",
    "\t\t\t<td><img src=\"../data/layer5/layer5_filter20.gif\" alt=\"\" border=3 height=100 width=100></img></td>\n",
    "\t\t\t<td><img src=\"../data/layer5/layer5_filter21.gif\" alt=\"\" border=3 height=100 width=100></img></td>\n",
    "\t\t\t<td><img src=\"../data/layer5/layer5_filter22.gif\" alt=\"\" border=3 height=100 width=100></img></td>\n",
    "\t\t\t<td><img src=\"../data/layer5/layer5_filter23.gif\" alt=\"\" border=3 height=100 width=100></img></td>\n",
    "\t\t</tr>\n",
    "\t\t<tr>\n",
    "\t\t\t<td><img src=\"../data/layer5/layer5_filter24.gif\" alt=\"\" border=3 height=100 width=100></img></td>\n",
    "\t\t\t<td><img src=\"../data/layer5/layer5_filter25.gif\" alt=\"\" border=3 height=100 width=100></img></td>\n",
    "\t\t\t<td><img src=\"../data/layer5/layer5_filter26.gif\" alt=\"\" border=3 height=100 width=100></img></td>\n",
    "\t\t\t<td><img src=\"../data/layer5/layer5_filter27.gif\" alt=\"\" border=3 height=100 width=100></img></td>\n",
    "\t\t\t<td><img src=\"../data/layer5/layer5_filter28.gif\" alt=\"\" border=3 height=100 width=100></img></td>\n",
    "\t\t\t<td><img src=\"../data/layer5/layer5_filter29.gif\" alt=\"\" border=3 height=100 width=100></img></td>\n",
    "\t\t\t<td><img src=\"../data/layer5/layer5_filter30.gif\" alt=\"\" border=3 height=100 width=100></img></td>\n",
    "\t\t\t<td><img src=\"../data/layer5/layer5_filter31.gif\" alt=\"\" border=3 height=100 width=100></img></td>\n",
    "\t\t</tr>\n",
    "</table>"
   ]
  },
  {
   "cell_type": "markdown",
   "metadata": {},
   "source": [
    "<div align=\"center\">\n",
    "    <h4>conv4a</h4>\n",
    "</div>"
   ]
  },
  {
   "cell_type": "markdown",
   "metadata": {},
   "source": [
    "<table>\n",
    "\t\t<tr>\n",
    "\t\t\t<td><img src=\"../data/layer7/layer7_filter0.gif\" alt=\"\" border=3 height=100 width=100></img></td>\n",
    "\t\t\t<td><img src=\"../data/layer7/layer7_filter1.gif\" alt=\"\" border=3 height=100 width=100></img></td>\n",
    "\t\t\t<td><img src=\"../data/layer7/layer7_filter2.gif\" alt=\"\" border=3 height=100 width=100></img></td>\n",
    "\t\t\t<td><img src=\"../data/layer7/layer7_filter3.gif\" alt=\"\" border=3 height=100 width=100></img></td>\n",
    "\t\t\t<td><img src=\"../data/layer7/layer7_filter4.gif\" alt=\"\" border=3 height=100 width=100></img></td>\n",
    "\t\t\t<td><img src=\"../data/layer7/layer7_filter5.gif\" alt=\"\" border=3 height=100 width=100></img></td>\n",
    "\t\t\t<td><img src=\"../data/layer7/layer7_filter6.gif\" alt=\"\" border=3 height=100 width=100></img></td>\n",
    "\t\t\t<td><img src=\"../data/layer7/layer7_filter7.gif\" alt=\"\" border=3 height=100 width=100></img></td>\n",
    "\t\t</tr>\n",
    "\t\t<tr>\n",
    "\t\t\t<td><img src=\"../data/layer7/layer7_filter8.gif\" alt=\"\" border=3 height=100 width=100></img></td>\n",
    "\t\t\t<td><img src=\"../data/layer7/layer7_filter9.gif\" alt=\"\" border=3 height=100 width=100></img></td>\n",
    "\t\t\t<td><img src=\"../data/layer7/layer7_filter10.gif\" alt=\"\" border=3 height=100 width=100></img></td>\n",
    "\t\t\t<td><img src=\"../data/layer7/layer7_filter11.gif\" alt=\"\" border=3 height=100 width=100></img></td>\n",
    "\t\t\t<td><img src=\"../data/layer7/layer7_filter12.gif\" alt=\"\" border=3 height=100 width=100></img></td>\n",
    "\t\t\t<td><img src=\"../data/layer7/layer7_filter13.gif\" alt=\"\" border=3 height=100 width=100></img></td>\n",
    "\t\t\t<td><img src=\"../data/layer7/layer7_filter14.gif\" alt=\"\" border=3 height=100 width=100></img></td>\n",
    "\t\t\t<td><img src=\"../data/layer7/layer7_filter15.gif\" alt=\"\" border=3 height=100 width=100></img></td>\n",
    "\t\t</tr>\n",
    "\t\t<tr>\n",
    "\t\t\t<td><img src=\"../data/layer7/layer7_filter16.gif\" alt=\"\" border=3 height=100 width=100></img></td>\n",
    "\t\t\t<td><img src=\"../data/layer7/layer7_filter17.gif\" alt=\"\" border=3 height=100 width=100></img></td>\n",
    "\t\t\t<td><img src=\"../data/layer7/layer7_filter18.gif\" alt=\"\" border=3 height=100 width=100></img></td>\n",
    "\t\t\t<td><img src=\"../data/layer7/layer7_filter19.gif\" alt=\"\" border=3 height=100 width=100></img></td>\n",
    "\t\t\t<td><img src=\"../data/layer7/layer7_filter20.gif\" alt=\"\" border=3 height=100 width=100></img></td>\n",
    "\t\t\t<td><img src=\"../data/layer7/layer7_filter21.gif\" alt=\"\" border=3 height=100 width=100></img></td>\n",
    "\t\t\t<td><img src=\"../data/layer7/layer7_filter22.gif\" alt=\"\" border=3 height=100 width=100></img></td>\n",
    "\t\t\t<td><img src=\"../data/layer7/layer7_filter23.gif\" alt=\"\" border=3 height=100 width=100></img></td>\n",
    "\t\t</tr>\n",
    "\t\t<tr>\n",
    "\t\t\t<td><img src=\"../data/layer7/layer7_filter24.gif\" alt=\"\" border=3 height=100 width=100></img></td>\n",
    "\t\t\t<td><img src=\"../data/layer7/layer7_filter25.gif\" alt=\"\" border=3 height=100 width=100></img></td>\n",
    "\t\t\t<td><img src=\"../data/layer7/layer7_filter26.gif\" alt=\"\" border=3 height=100 width=100></img></td>\n",
    "\t\t\t<td><img src=\"../data/layer7/layer7_filter27.gif\" alt=\"\" border=3 height=100 width=100></img></td>\n",
    "\t\t\t<td><img src=\"../data/layer7/layer7_filter28.gif\" alt=\"\" border=3 height=100 width=100></img></td>\n",
    "\t\t\t<td><img src=\"../data/layer7/layer7_filter29.gif\" alt=\"\" border=3 height=100 width=100></img></td>\n",
    "\t\t\t<td><img src=\"../data/layer7/layer7_filter30.gif\" alt=\"\" border=3 height=100 width=100></img></td>\n",
    "\t\t\t<td><img src=\"../data/layer7/layer7_filter31.gif\" alt=\"\" border=3 height=100 width=100></img></td>\n",
    "\t\t</tr>\n",
    "</table>"
   ]
  },
  {
   "cell_type": "markdown",
   "metadata": {},
   "source": [
    "<div align=\"center\">\n",
    "    <h4>conv4b</h4>\n",
    "</div>"
   ]
  },
  {
   "cell_type": "markdown",
   "metadata": {},
   "source": [
    "<table>\n",
    "    <tr>\n",
    "\t\t\t<td><img src=\"../data/layer8/layer8_filter0.gif\" alt=\"\" border=3 height=100 width=100></img></td>\n",
    "\t\t\t<td><img src=\"../data/layer8/layer8_filter1.gif\" alt=\"\" border=3 height=100 width=100></img></td>\n",
    "\t\t\t<td><img src=\"../data/layer8/layer8_filter2.gif\" alt=\"\" border=3 height=100 width=100></img></td>\n",
    "\t\t\t<td><img src=\"../data/layer8/layer8_filter3.gif\" alt=\"\" border=3 height=100 width=100></img></td>\n",
    "\t\t\t<td><img src=\"../data/layer8/layer8_filter4.gif\" alt=\"\" border=3 height=100 width=100></img></td>\n",
    "\t\t\t<td><img src=\"../data/layer8/layer8_filter5.gif\" alt=\"\" border=3 height=100 width=100></img></td>\n",
    "\t\t\t<td><img src=\"../data/layer8/layer8_filter6.gif\" alt=\"\" border=3 height=100 width=100></img></td>\n",
    "\t\t\t<td><img src=\"../data/layer8/layer8_filter7.gif\" alt=\"\" border=3 height=100 width=100></img></td>\n",
    "\t\t</tr>\n",
    "\t\t<tr>\n",
    "\t\t\t<td><img src=\"../data/layer8/layer8_filter8.gif\" alt=\"\" border=3 height=100 width=100></img></td>\n",
    "\t\t\t<td><img src=\"../data/layer8/layer8_filter9.gif\" alt=\"\" border=3 height=100 width=100></img></td>\n",
    "\t\t\t<td><img src=\"../data/layer8/layer8_filter10.gif\" alt=\"\" border=3 height=100 width=100></img></td>\n",
    "\t\t\t<td><img src=\"../data/layer8/layer8_filter11.gif\" alt=\"\" border=3 height=100 width=100></img></td>\n",
    "\t\t\t<td><img src=\"../data/layer8/layer8_filter12.gif\" alt=\"\" border=3 height=100 width=100></img></td>\n",
    "\t\t\t<td><img src=\"../data/layer8/layer8_filter13.gif\" alt=\"\" border=3 height=100 width=100></img></td>\n",
    "\t\t\t<td><img src=\"../data/layer8/layer8_filter14.gif\" alt=\"\" border=3 height=100 width=100></img></td>\n",
    "\t\t\t<td><img src=\"../data/layer8/layer8_filter15.gif\" alt=\"\" border=3 height=100 width=100></img></td>\n",
    "\t\t</tr>\n",
    "\t\t<tr>\n",
    "\t\t\t<td><img src=\"../data/layer8/layer8_filter16.gif\" alt=\"\" border=3 height=100 width=100></img></td>\n",
    "\t\t\t<td><img src=\"../data/layer8/layer8_filter17.gif\" alt=\"\" border=3 height=100 width=100></img></td>\n",
    "\t\t\t<td><img src=\"../data/layer8/layer8_filter18.gif\" alt=\"\" border=3 height=100 width=100></img></td>\n",
    "\t\t\t<td><img src=\"../data/layer8/layer8_filter19.gif\" alt=\"\" border=3 height=100 width=100></img></td>\n",
    "\t\t\t<td><img src=\"../data/layer8/layer8_filter20.gif\" alt=\"\" border=3 height=100 width=100></img></td>\n",
    "\t\t\t<td><img src=\"../data/layer8/layer8_filter21.gif\" alt=\"\" border=3 height=100 width=100></img></td>\n",
    "\t\t\t<td><img src=\"../data/layer8/layer8_filter22.gif\" alt=\"\" border=3 height=100 width=100></img></td>\n",
    "\t\t\t<td><img src=\"../data/layer8/layer8_filter23.gif\" alt=\"\" border=3 height=100 width=100></img></td>\n",
    "\t\t</tr>\n",
    "\t\t<tr>\n",
    "\t\t\t<td><img src=\"../data/layer8/layer8_filter24.gif\" alt=\"\" border=3 height=100 width=100></img></td>\n",
    "\t\t\t<td><img src=\"../data/layer8/layer8_filter25.gif\" alt=\"\" border=3 height=100 width=100></img></td>\n",
    "\t\t\t<td><img src=\"../data/layer8/layer8_filter26.gif\" alt=\"\" border=3 height=100 width=100></img></td>\n",
    "\t\t\t<td><img src=\"../data/layer8/layer8_filter27.gif\" alt=\"\" border=3 height=100 width=100></img></td>\n",
    "\t\t\t<td><img src=\"../data/layer8/layer8_filter28.gif\" alt=\"\" border=3 height=100 width=100></img></td>\n",
    "\t\t\t<td><img src=\"../data/layer8/layer8_filter29.gif\" alt=\"\" border=3 height=100 width=100></img></td>\n",
    "\t\t\t<td><img src=\"../data/layer8/layer8_filter30.gif\" alt=\"\" border=3 height=100 width=100></img></td>\n",
    "\t\t\t<td><img src=\"../data/layer8/layer8_filter31.gif\" alt=\"\" border=3 height=100 width=100></img></td>\n",
    "\t\t</tr>\n",
    "</table>"
   ]
  },
  {
   "cell_type": "markdown",
   "metadata": {},
   "source": [
    "<div align=\"center\">\n",
    "    <h4>conv5a</h4>\n",
    "</div>"
   ]
  },
  {
   "cell_type": "markdown",
   "metadata": {},
   "source": [
    "<table>\n",
    "    \t\t<tr>\n",
    "\t\t\t<td><img src=\"../data/layer10/layer10_filter0.gif\" alt=\"\" border=3 height=100 width=100></img></td>\n",
    "\t\t\t<td><img src=\"../data/layer10/layer10_filter1.gif\" alt=\"\" border=3 height=100 width=100></img></td>\n",
    "\t\t\t<td><img src=\"../data/layer10/layer10_filter2.gif\" alt=\"\" border=3 height=100 width=100></img></td>\n",
    "\t\t\t<td><img src=\"../data/layer10/layer10_filter3.gif\" alt=\"\" border=3 height=100 width=100></img></td>\n",
    "\t\t\t<td><img src=\"../data/layer10/layer10_filter4.gif\" alt=\"\" border=3 height=100 width=100></img></td>\n",
    "\t\t\t<td><img src=\"../data/layer10/layer10_filter5.gif\" alt=\"\" border=3 height=100 width=100></img></td>\n",
    "\t\t\t<td><img src=\"../data/layer10/layer10_filter6.gif\" alt=\"\" border=3 height=100 width=100></img></td>\n",
    "\t\t\t<td><img src=\"../data/layer10/layer10_filter7.gif\" alt=\"\" border=3 height=100 width=100></img></td>\n",
    "\t\t</tr>\n",
    "\t\t<tr>\n",
    "\t\t\t<td><img src=\"../data/layer10/layer10_filter8.gif\" alt=\"\" border=3 height=100 width=100></img></td>\n",
    "\t\t\t<td><img src=\"../data/layer10/layer10_filter9.gif\" alt=\"\" border=3 height=100 width=100></img></td>\n",
    "\t\t\t<td><img src=\"../data/layer10/layer10_filter10.gif\" alt=\"\" border=3 height=100 width=100></img></td>\n",
    "\t\t\t<td><img src=\"../data/layer10/layer10_filter11.gif\" alt=\"\" border=3 height=100 width=100></img></td>\n",
    "\t\t\t<td><img src=\"../data/layer10/layer10_filter12.gif\" alt=\"\" border=3 height=100 width=100></img></td>\n",
    "\t\t\t<td><img src=\"../data/layer10/layer10_filter13.gif\" alt=\"\" border=3 height=100 width=100></img></td>\n",
    "\t\t\t<td><img src=\"../data/layer10/layer10_filter14.gif\" alt=\"\" border=3 height=100 width=100></img></td>\n",
    "\t\t\t<td><img src=\"../data/layer10/layer10_filter15.gif\" alt=\"\" border=3 height=100 width=100></img></td>\n",
    "\t\t</tr>\n",
    "\t\t<tr>\n",
    "\t\t\t<td><img src=\"../data/layer10/layer10_filter16.gif\" alt=\"\" border=3 height=100 width=100></img></td>\n",
    "\t\t\t<td><img src=\"../data/layer10/layer10_filter17.gif\" alt=\"\" border=3 height=100 width=100></img></td>\n",
    "\t\t\t<td><img src=\"../data/layer10/layer10_filter18.gif\" alt=\"\" border=3 height=100 width=100></img></td>\n",
    "\t\t\t<td><img src=\"../data/layer10/layer10_filter19.gif\" alt=\"\" border=3 height=100 width=100></img></td>\n",
    "\t\t\t<td><img src=\"../data/layer10/layer10_filter20.gif\" alt=\"\" border=3 height=100 width=100></img></td>\n",
    "\t\t\t<td><img src=\"../data/layer10/layer10_filter21.gif\" alt=\"\" border=3 height=100 width=100></img></td>\n",
    "\t\t\t<td><img src=\"../data/layer10/layer10_filter22.gif\" alt=\"\" border=3 height=100 width=100></img></td>\n",
    "\t\t\t<td><img src=\"../data/layer10/layer10_filter23.gif\" alt=\"\" border=3 height=100 width=100></img></td>\n",
    "\t\t</tr>\n",
    "\t\t<tr>\n",
    "\t\t\t<td><img src=\"../data/layer10/layer10_filter24.gif\" alt=\"\" border=3 height=100 width=100></img></td>\n",
    "\t\t\t<td><img src=\"../data/layer10/layer10_filter25.gif\" alt=\"\" border=3 height=100 width=100></img></td>\n",
    "\t\t\t<td><img src=\"../data/layer10/layer10_filter26.gif\" alt=\"\" border=3 height=100 width=100></img></td>\n",
    "\t\t\t<td><img src=\"../data/layer10/layer10_filter27.gif\" alt=\"\" border=3 height=100 width=100></img></td>\n",
    "\t\t\t<td><img src=\"../data/layer10/layer10_filter28.gif\" alt=\"\" border=3 height=100 width=100></img></td>\n",
    "\t\t\t<td><img src=\"../data/layer10/layer10_filter29.gif\" alt=\"\" border=3 height=100 width=100></img></td>\n",
    "\t\t\t<td><img src=\"../data/layer10/layer10_filter30.gif\" alt=\"\" border=3 height=100 width=100></img></td>\n",
    "\t\t\t<td><img src=\"../data/layer10/layer10_filter31.gif\" alt=\"\" border=3 height=100 width=100></img></td>\n",
    "\t\t</tr>\n",
    "</table>"
   ]
  },
  {
   "cell_type": "markdown",
   "metadata": {},
   "source": [
    "<div align=\"center\">\n",
    "    <h4>conv5b</h4>\n",
    "</div>"
   ]
  },
  {
   "cell_type": "markdown",
   "metadata": {},
   "source": [
    "<table>\n",
    "    \t\t<tr>\n",
    "\t\t\t<td><img src=\"../data/layer11/layer11_filter0.gif\" alt=\"\" border=3 height=100 width=100></img></td>\n",
    "\t\t\t<td><img src=\"../data/layer11/layer11_filter1.gif\" alt=\"\" border=3 height=100 width=100></img></td>\n",
    "\t\t\t<td><img src=\"../data/layer11/layer11_filter2.gif\" alt=\"\" border=3 height=100 width=100></img></td>\n",
    "\t\t\t<td><img src=\"../data/layer11/layer11_filter3.gif\" alt=\"\" border=3 height=100 width=100></img></td>\n",
    "\t\t\t<td><img src=\"../data/layer11/layer11_filter4.gif\" alt=\"\" border=3 height=100 width=100></img></td>\n",
    "\t\t\t<td><img src=\"../data/layer11/layer11_filter5.gif\" alt=\"\" border=3 height=100 width=100></img></td>\n",
    "\t\t\t<td><img src=\"../data/layer11/layer11_filter6.gif\" alt=\"\" border=3 height=100 width=100></img></td>\n",
    "\t\t\t<td><img src=\"../data/layer11/layer11_filter7.gif\" alt=\"\" border=3 height=100 width=100></img></td>\n",
    "\t\t</tr>\n",
    "\t\t<tr>\n",
    "\t\t\t<td><img src=\"../data/layer11/layer11_filter8.gif\" alt=\"\" border=3 height=100 width=100></img></td>\n",
    "\t\t\t<td><img src=\"../data/layer11/layer11_filter9.gif\" alt=\"\" border=3 height=100 width=100></img></td>\n",
    "\t\t\t<td><img src=\"../data/layer11/layer11_filter10.gif\" alt=\"\" border=3 height=100 width=100></img></td>\n",
    "\t\t\t<td><img src=\"../data/layer11/layer11_filter11.gif\" alt=\"\" border=3 height=100 width=100></img></td>\n",
    "\t\t\t<td><img src=\"../data/layer11/layer11_filter12.gif\" alt=\"\" border=3 height=100 width=100></img></td>\n",
    "\t\t\t<td><img src=\"../data/layer11/layer11_filter13.gif\" alt=\"\" border=3 height=100 width=100></img></td>\n",
    "\t\t\t<td><img src=\"../data/layer11/layer11_filter14.gif\" alt=\"\" border=3 height=100 width=100></img></td>\n",
    "\t\t\t<td><img src=\"../data/layer11/layer11_filter15.gif\" alt=\"\" border=3 height=100 width=100></img></td>\n",
    "\t\t</tr>\n",
    "\t\t<tr>\n",
    "\t\t\t<td><img src=\"../data/layer11/layer11_filter16.gif\" alt=\"\" border=3 height=100 width=100></img></td>\n",
    "\t\t\t<td><img src=\"../data/layer11/layer11_filter17.gif\" alt=\"\" border=3 height=100 width=100></img></td>\n",
    "\t\t\t<td><img src=\"../data/layer11/layer11_filter18.gif\" alt=\"\" border=3 height=100 width=100></img></td>\n",
    "\t\t\t<td><img src=\"../data/layer11/layer11_filter19.gif\" alt=\"\" border=3 height=100 width=100></img></td>\n",
    "\t\t\t<td><img src=\"../data/layer11/layer11_filter20.gif\" alt=\"\" border=3 height=100 width=100></img></td>\n",
    "\t\t\t<td><img src=\"../data/layer11/layer11_filter21.gif\" alt=\"\" border=3 height=100 width=100></img></td>\n",
    "\t\t\t<td><img src=\"../data/layer11/layer11_filter22.gif\" alt=\"\" border=3 height=100 width=100></img></td>\n",
    "\t\t\t<td><img src=\"../data/layer11/layer11_filter23.gif\" alt=\"\" border=3 height=100 width=100></img></td>\n",
    "\t\t</tr>\n",
    "\t\t<tr>\n",
    "\t\t\t<td><img src=\"../data/layer11/layer11_filter24.gif\" alt=\"\" border=3 height=100 width=100></img></td>\n",
    "\t\t\t<td><img src=\"../data/layer11/layer11_filter25.gif\" alt=\"\" border=3 height=100 width=100></img></td>\n",
    "\t\t\t<td><img src=\"../data/layer11/layer11_filter26.gif\" alt=\"\" border=3 height=100 width=100></img></td>\n",
    "\t\t\t<td><img src=\"../data/layer11/layer11_filter27.gif\" alt=\"\" border=3 height=100 width=100></img></td>\n",
    "\t\t\t<td><img src=\"../data/layer11/layer11_filter28.gif\" alt=\"\" border=3 height=100 width=100></img></td>\n",
    "\t\t\t<td><img src=\"../data/layer11/layer11_filter29.gif\" alt=\"\" border=3 height=100 width=100></img></td>\n",
    "\t\t\t<td><img src=\"../data/layer11/layer11_filter30.gif\" alt=\"\" border=3 height=100 width=100></img></td>\n",
    "\t\t\t<td><img src=\"../data/layer11/layer11_filter31.gif\" alt=\"\" border=3 height=100 width=100></img></td>\n",
    "\t\t</tr>\n",
    "</table>"
   ]
  }
 ],
 "metadata": {
  "kernelspec": {
   "display_name": "Python 3",
   "language": "python",
   "name": "python3"
  },
  "language_info": {
   "codemirror_mode": {
    "name": "ipython",
    "version": 3
   },
   "file_extension": ".py",
   "mimetype": "text/x-python",
   "name": "python",
   "nbconvert_exporter": "python",
   "pygments_lexer": "ipython3",
   "version": "3.5.2"
  }
 },
 "nbformat": 4,
 "nbformat_minor": 1
}
